{
 "cells": [
  {
   "cell_type": "markdown",
   "id": "forward-probe",
   "metadata": {},
   "source": [
    "# Google Sheets + Python using Gspread Module 🚀\n",
    "\n",
    "--------\n",
    "\n"
   ]
  },
  {
   "cell_type": "code",
   "execution_count": 46,
   "id": "physical-croatia",
   "metadata": {},
   "outputs": [],
   "source": [
    "# Import modules \n",
    "\n",
    "import gspread #pip install gspread\n",
    "import pandas as pd"
   ]
  },
  {
   "cell_type": "code",
   "execution_count": 88,
   "id": "behind-pasta",
   "metadata": {},
   "outputs": [],
   "source": [
    "# Setting up with the connection\n",
    "# The json file downloaded needs to be in the same folder\n",
    "cred_file = \"test-youtube-demo-350317-073112f7ce31.json\"\n",
    "gc = gspread.service_account(cred_file)\n",
    "gc"
   ]
  },
  {
   "cell_type": "code",
   "execution_count": 31,
   "id": "outside-sullivan",
   "metadata": {},
   "outputs": [],
   "source": [
    "# Establish the connection\n",
    "# database is the googleSpreadSheet name\n",
    "database = gc.open(\"database\")\n"
   ]
  },
  {
   "cell_type": "code",
   "execution_count": 40,
   "id": "serious-mechanics",
   "metadata": {},
   "outputs": [
    {
     "data": {
      "text/plain": [
       "<Worksheet 'Sheet1' id:0>"
      ]
     },
     "execution_count": 40,
     "metadata": {},
     "output_type": "execute_result"
    }
   ],
   "source": [
    "# Selecting a worksheet\n",
    "wks = database.worksheet(\"Sheet1\")\n",
    "wks"
   ]
  },
  {
   "cell_type": "code",
   "execution_count": 87,
   "id": "horizontal-magazine",
   "metadata": {},
   "outputs": [],
   "source": [
    "# List all the worksheets\n",
    "list_wks = database.worksheets()\n",
    "list_wks"
   ]
  },
  {
   "cell_type": "code",
   "execution_count": 89,
   "id": "exclusive-dover",
   "metadata": {},
   "outputs": [],
   "source": [
    "# Adding a new worksheet to Google SpreadSheet\n",
    "database.add_worksheet(\"new_wks\",\"100\",\"20\")"
   ]
  },
  {
   "cell_type": "code",
   "execution_count": 83,
   "id": "proof-fishing",
   "metadata": {},
   "outputs": [],
   "source": [
    "# Fetching the url of the of the SpreadSheet \n",
    "database.url"
   ]
  },
  {
   "cell_type": "code",
   "execution_count": 47,
   "id": "peaceful-proposal",
   "metadata": {},
   "outputs": [
    {
     "data": {
      "text/html": [
       "<div>\n",
       "<style scoped>\n",
       "    .dataframe tbody tr th:only-of-type {\n",
       "        vertical-align: middle;\n",
       "    }\n",
       "\n",
       "    .dataframe tbody tr th {\n",
       "        vertical-align: top;\n",
       "    }\n",
       "\n",
       "    .dataframe thead th {\n",
       "        text-align: right;\n",
       "    }\n",
       "</style>\n",
       "<table border=\"1\" class=\"dataframe\">\n",
       "  <thead>\n",
       "    <tr style=\"text-align: right;\">\n",
       "      <th></th>\n",
       "      <th>Player</th>\n",
       "      <th>Age</th>\n",
       "    </tr>\n",
       "  </thead>\n",
       "  <tbody>\n",
       "    <tr>\n",
       "      <th>0</th>\n",
       "      <td>L. Messi</td>\n",
       "      <td>31</td>\n",
       "    </tr>\n",
       "    <tr>\n",
       "      <th>1</th>\n",
       "      <td>Cristiano Ronaldo</td>\n",
       "      <td>33</td>\n",
       "    </tr>\n",
       "    <tr>\n",
       "      <th>2</th>\n",
       "      <td>Neymar Jr</td>\n",
       "      <td>26</td>\n",
       "    </tr>\n",
       "    <tr>\n",
       "      <th>3</th>\n",
       "      <td>De Gea</td>\n",
       "      <td>27</td>\n",
       "    </tr>\n",
       "    <tr>\n",
       "      <th>4</th>\n",
       "      <td>K. De Bruyne</td>\n",
       "      <td>27</td>\n",
       "    </tr>\n",
       "    <tr>\n",
       "      <th>5</th>\n",
       "      <td>E. Hazard</td>\n",
       "      <td>27</td>\n",
       "    </tr>\n",
       "    <tr>\n",
       "      <th>6</th>\n",
       "      <td>L. Modrić</td>\n",
       "      <td>32</td>\n",
       "    </tr>\n",
       "    <tr>\n",
       "      <th>7</th>\n",
       "      <td>L. Suárez</td>\n",
       "      <td>31</td>\n",
       "    </tr>\n",
       "    <tr>\n",
       "      <th>8</th>\n",
       "      <td>Sergio Ramos</td>\n",
       "      <td>32</td>\n",
       "    </tr>\n",
       "    <tr>\n",
       "      <th>9</th>\n",
       "      <td>J. Oblak</td>\n",
       "      <td>25</td>\n",
       "    </tr>\n",
       "    <tr>\n",
       "      <th>10</th>\n",
       "      <td>R. Lewandowski</td>\n",
       "      <td>29</td>\n",
       "    </tr>\n",
       "    <tr>\n",
       "      <th>11</th>\n",
       "      <td>T. Kroos</td>\n",
       "      <td>28</td>\n",
       "    </tr>\n",
       "    <tr>\n",
       "      <th>12</th>\n",
       "      <td>D. Godín</td>\n",
       "      <td>32</td>\n",
       "    </tr>\n",
       "    <tr>\n",
       "      <th>13</th>\n",
       "      <td>David Silva</td>\n",
       "      <td>32</td>\n",
       "    </tr>\n",
       "    <tr>\n",
       "      <th>14</th>\n",
       "      <td>N. Kanté</td>\n",
       "      <td>27</td>\n",
       "    </tr>\n",
       "    <tr>\n",
       "      <th>15</th>\n",
       "      <td>P. Dybala</td>\n",
       "      <td>24</td>\n",
       "    </tr>\n",
       "    <tr>\n",
       "      <th>16</th>\n",
       "      <td>H. Kane</td>\n",
       "      <td>24</td>\n",
       "    </tr>\n",
       "    <tr>\n",
       "      <th>17</th>\n",
       "      <td>A. Griezmann</td>\n",
       "      <td>27</td>\n",
       "    </tr>\n",
       "    <tr>\n",
       "      <th>18</th>\n",
       "      <td>M. ter Stegen</td>\n",
       "      <td>26</td>\n",
       "    </tr>\n",
       "    <tr>\n",
       "      <th>19</th>\n",
       "      <td>T. Courtois</td>\n",
       "      <td>26</td>\n",
       "    </tr>\n",
       "    <tr>\n",
       "      <th>20</th>\n",
       "      <td>Sergio Busquets</td>\n",
       "      <td>29</td>\n",
       "    </tr>\n",
       "  </tbody>\n",
       "</table>\n",
       "</div>"
      ],
      "text/plain": [
       "               Player  Age\n",
       "0            L. Messi   31\n",
       "1   Cristiano Ronaldo   33\n",
       "2           Neymar Jr   26\n",
       "3              De Gea   27\n",
       "4        K. De Bruyne   27\n",
       "5           E. Hazard   27\n",
       "6           L. Modrić   32\n",
       "7           L. Suárez   31\n",
       "8        Sergio Ramos   32\n",
       "9            J. Oblak   25\n",
       "10     R. Lewandowski   29\n",
       "11           T. Kroos   28\n",
       "12           D. Godín   32\n",
       "13        David Silva   32\n",
       "14           N. Kanté   27\n",
       "15          P. Dybala   24\n",
       "16            H. Kane   24\n",
       "17       A. Griezmann   27\n",
       "18      M. ter Stegen   26\n",
       "19        T. Courtois   26\n",
       "20    Sergio Busquets   29"
      ]
     },
     "execution_count": 47,
     "metadata": {},
     "output_type": "execute_result"
    }
   ],
   "source": [
    "# Acess all the records\n",
    "data = pd.DataFrame(wks.get_all_records())\n",
    "data"
   ]
  },
  {
   "cell_type": "code",
   "execution_count": 49,
   "id": "alternate-saint",
   "metadata": {},
   "outputs": [
    {
     "data": {
      "text/plain": [
       "<AxesSubplot:ylabel='Player'>"
      ]
     },
     "execution_count": 49,
     "metadata": {},
     "output_type": "execute_result"
    },
    {
     "data": {
      "image/png": "[encoded data removed]",
      "text/plain": [
       "<Figure size 432x288 with 1 Axes>"
      ]
     },
     "metadata": {
      "needs_background": "light"
     },
     "output_type": "display_data"
    }
   ],
   "source": [
    "# Plotting\n",
    "data.plot.barh(x=\"Player\",y=\"Age\")"
   ]
  },
  {
   "cell_type": "code",
   "execution_count": 53,
   "id": "existing-breed",
   "metadata": {},
   "outputs": [
    {
     "name": "stdout",
     "output_type": "stream",
     "text": [
      "1 8\n"
     ]
    }
   ],
   "source": [
    "# Finding a Keyword from our Selected Worksheet\n",
    "\n",
    "# -----\n",
    "# Selecting a worksheet\n",
    "#wks = database.worksheet(\"Sheet1\")\n",
    "#wks\n",
    "\n",
    "# ----\n",
    "\n",
    "word = \"L. Modrić\"\n",
    "cell = wks.find(word)\n",
    "cell\n",
    "key_row = cell.row\n",
    "key_col = cell.col\n",
    "print(key_col,key_row)"
   ]
  },
  {
   "cell_type": "code",
   "execution_count": 68,
   "id": "cellular-valuable",
   "metadata": {},
   "outputs": [
    {
     "data": {
      "text/plain": [
       "'Cristiano Ronaldo'"
      ]
     },
     "execution_count": 68,
     "metadata": {},
     "output_type": "execute_result"
    }
   ],
   "source": [
    "# Obtaining the value\n",
    "wks.cell(3,1).value"
   ]
  },
  {
   "cell_type": "code",
   "execution_count": 74,
   "id": "communist-fellow",
   "metadata": {},
   "outputs": [
    {
     "data": {
      "text/plain": [
       "22"
      ]
     },
     "execution_count": 74,
     "metadata": {},
     "output_type": "execute_result"
    }
   ],
   "source": [
    "# Total number of row\n",
    "n = wks.col_values(2) # Gives all the rows as list in column 2\n",
    "len(n)"
   ]
  },
  {
   "cell_type": "code",
   "execution_count": 85,
   "id": "qualified-edition",
   "metadata": {},
   "outputs": [],
   "source": [
    "# Update a new cell from the \n",
    "new_name = \"Bruno Fernandes\"\n",
    "new_age = 27\n",
    "\n",
    "wks.update_cell(23,1,new_name)\n",
    "wks.update_cell(23,2,new_age)b"
   ]
  },
  {
   "cell_type": "code",
   "execution_count": 86,
   "id": "recognized-humanity",
   "metadata": {},
   "outputs": [],
   "source": [
    "# Update batch of cells \n",
    "\n",
    "cell_list = wks.range('B24:B28')\n",
    "cell_values = [20,24,25,26]\n",
    "\n",
    "for i, val in enumerate(cell_values): #gives us a tuple of an index and value\n",
    "    cell_list[i].value = val # use the index on cell_list and the val from cell_values\n",
    "\n",
    "    \n",
    "wks.update_cells(cell_list)"
   ]
  }
 ],
 "metadata": {
  "kernelspec": {
   "display_name": "Python 3",
   "language": "python",
   "name": "python3"
  },
  "language_info": {
   "codemirror_mode": {
    "name": "ipython",
    "version": 3
   },
   "file_extension": ".py",
   "mimetype": "text/x-python",
   "name": "python",
   "nbconvert_exporter": "python",
   "pygments_lexer": "ipython3",
   "version": "3.9.2"
  }
 },
 "nbformat": 4,
 "nbformat_minor": 5
}
